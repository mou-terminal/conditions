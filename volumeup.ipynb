{
 "cells": [
  {
   "cell_type": "code",
   "execution_count": 2,
   "metadata": {
    "scrolled": true
   },
   "outputs": [],
   "source": [
    "# N 일 기준 k 배 이상\n",
    "import datetime\n",
    "import pymysql\n",
    "import pandas as pd\n",
    "\n",
    "def getTable(day,n):\n",
    "    \n",
    "    conn= pymysql.connect(\n",
    "           *\n",
    "            )\n",
    "\n",
    "    cursor = conn.cursor()\n",
    "    \n",
    "    sql =   f\"\"\"select avg_table.stockname, vol/avg_vol as threshold, vol from\n",
    "        (select stockname, avg(vol) as avg_vol\n",
    "        from (select * from (select * , rank() over(PARTITION BY stockname order by stock_date desc) as ranking from dailyinfo where stock_date < {day}) as A where ranking <= {n})\n",
    "        as B \n",
    "        group by stockname) as avg_table\n",
    "        inner join (select stockname, vol from dailyinfo where stock_date = {day}) as day_table\n",
    "        on avg_table.stockname = day_table.stockname\n",
    "        order by threshold desc;\"\"\"\n",
    "    \n",
    "    cursor.execute(sql)\n",
    "    \n",
    "    result = list(cursor.fetchall())\n",
    "\n",
    "    conn.close()\n",
    "    \n",
    "    return result\n",
    "\n",
    "\n",
    "# _days = str(datetime.date.today())\n",
    "_days = \"2022-05-20\"\n",
    "    \n",
    "df = pd.DataFrame(getTable(\"'\"+_days+\"'\",20),columns=['stockname','times','vol'])\n",
    "\n",
    "df = df[df['times'] > 5]\n",
    "\n",
    "df['stock_day'] = _days\n",
    "\n",
    "from sqlalchemy import create_engine\n",
    "\n",
    "pymysql.install_as_MySQLdb()\n",
    "import MySQLdb\n",
    "            \n",
    "engine = create_engine(\"*\",encoding='utf-8')\n",
    "conn = engine.connect()\n",
    "\n",
    "df.to_sql(name='volumeup', con = engine, if_exists = 'replace' ,index = False)\n",
    "            \n",
    "conn.close()"
   ]
  }
 ],
 "metadata": {
  "kernelspec": {
   "display_name": "Python 3",
   "language": "python",
   "name": "python3"
  },
  "language_info": {
   "codemirror_mode": {
    "name": "ipython",
    "version": 3
   },
   "file_extension": ".py",
   "mimetype": "text/x-python",
   "name": "python",
   "nbconvert_exporter": "python",
   "pygments_lexer": "ipython3",
   "version": "3.7.6"
  }
 },
 "nbformat": 4,
 "nbformat_minor": 4
}
